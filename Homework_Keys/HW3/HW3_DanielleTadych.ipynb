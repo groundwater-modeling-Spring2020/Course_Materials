{
 "cells": [
  {
   "cell_type": "markdown",
   "metadata": {},
   "source": [
    "# Homework 3 - Recharge Model\n",
    "## Due February 27, 12:30 pm\n",
    "\n",
    "----\n",
    "###  Instructions\n",
    "I recommend you start by walking through the self check exercise contained in this repo. The exercise is described in the README of that directory and an IPython notebook and a solution key are also provided.\n",
    "\n",
    "After you have done this you should complete the assignment below in the **Assignment** folder.\n",
    "\n",
    "When you are finished\n",
    "\n",
    "1) Submit your final report by placing it in the **Submission** folder. You do not need to include your ipynb in the submission folder.\n",
    "\n",
    "2) In the ReadMe of the submission folder add a list of the file you used to produce your results.\n",
    "\n",
    "3) Make sure you commit and push your changes so that your submission will be uploaded.\n",
    "\n",
    "----\n",
    "### Assignment\n",
    "Build a steady state box model.  The model should have 25x25 cells, each 100 m in x and in y.  There is one layer, 10 m thick.  The medium is homogeneous with K = 1.0 m/day in x and y and 0.1 m/day in z.  The porosity is 0.35, specific yield is 0.3, and storage coefficient is 0.001.  The right boundary is zero flux, representing a closed basin.  The left boundary is a constant head of 7 m relative to the datum, which is located at the bottom of the domain. Build two models.  \n",
    "\n",
    "\n",
    "#### Part 1:\n",
    "First build a model with a uniform recharge at a rate of 5E-6 m/d over the entire domain (as defined for self check assignment 3).\n",
    "\n",
    "Second, change the model so that recharge occurs only over the rightmost 20% of the domain; it is zero elsewhere.  Adjust the recharge such that the total inflow into the second model is identical to that into the first model.  (Hint: use the mass balance and adjust the recharge rate to match the first model!)  For both models apply particles to every grid cell in the domain and track using forward tracking.\n",
    "\n",
    "**Questions**\n",
    "1. How does the head profile change when the recharge is only applied to the right 1/3 of the domain? Why is this?\n",
    "\n",
    "2. How do the ages and the relationship between age and recharge location change? Explain why this makes sense?\n",
    "\n",
    "\n",
    "#### Part  2:\n",
    "Add a well to row 12, column 12 pumping at a rate of 10m^3/day. Again run the simulation with forward particle tracking.\n",
    "\n",
    "**Questions**\n",
    "1. What portion of the particles get captured by the well?\n",
    "\n",
    "2. How does the well change the gradients in the right 1/2 of the domain?  Why is this? \n",
    "\n",
    "3. Do the travel times for the particles not captured by the well change? Why or why not?\n",
    "\n",
    "#### Optional Part 3:\n",
    "Adjust the pumping rate in the well and plot the relationship between pumping rate and capture zone.\n",
    "\n"
   ]
  },
  {
   "cell_type": "markdown",
   "metadata": {},
   "source": []
  }
 ],
 "metadata": {
  "kernelspec": {
   "display_name": "Python 3",
   "language": "python",
   "name": "python3"
  },
  "language_info": {
   "codemirror_mode": {
    "name": "ipython",
    "version": 3
   },
   "file_extension": ".py",
   "mimetype": "text/x-python",
   "name": "python",
   "nbconvert_exporter": "python",
   "pygments_lexer": "ipython3",
   "version": "3.8.1"
  }
 },
 "nbformat": 4,
 "nbformat_minor": 4
}
